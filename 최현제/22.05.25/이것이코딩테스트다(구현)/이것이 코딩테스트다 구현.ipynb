{
 "cells": [
  {
   "cell_type": "markdown",
   "id": "844feb05",
   "metadata": {},
   "source": [
    "# 구현 \n",
    "* 구현이란 '머릿 속에 있는 알고리즘을 소스코드로 바꾸는 과정'\n",
    "* 구현 유형의 문제는 피지컬을 요구하는 문제라고도 할 수 있다."
   ]
  },
  {
   "cell_type": "markdown",
   "id": "8ab2da85",
   "metadata": {},
   "source": [
    "## 상하좌우\n",
    "여행가 A는 N * N 크기의 정사각형 공간 위에 서 있다. 이 공간은 1 * 1 크기의 정사각형으로 나누어져 있다.<br>\n",
    "가장 왼쪽 위 좌표는 (1, 1)이며 가장 오른쪽 아래 좌표는 (N, N)에 해당한다.<br>\n",
    "여행가 A는 상하좌우 방향으로 이동할 수 있으며, 시작 좌표는 항상 (1, 1) 이다.<br>\n",
    "* L : 왼쪽으로 한 칸 이동 \n",
    "* R : 오른쪽으로 한 칸 이동 \n",
    "* U : 위로 한 칸 이동 \n",
    "* D : 아래로 한 칸 이동 \n",
    "\n",
    "이때 여행가 A가 N * N 크기의 정사각형 공간을 벗어나는 움직임은 무시된다. 예를 들어 (1, 1)의 위치에서 L 혹은 U를 만나면 무시된다.\n"
   ]
  },
  {
   "cell_type": "markdown",
   "id": "79568fe3",
   "metadata": {},
   "source": [
    "입력 : 첫째 줄에 공간의 크기를 나타내는 N이 주어진다 <br>\n",
    "       둘째 줄에 여행가 A가 이동할 계획서 내용이 주어진다.\n",
    "       \n",
    "출력 : 첫째 줄에 여행가 A가 최종적으로 도착할 지점의 좌표 (X, Y)를 공백으로 구분해서 출력한다. \n"
   ]
  },
  {
   "cell_type": "code",
   "execution_count": 8,
   "id": "f2170afb",
   "metadata": {
    "ExecuteTime": {
     "end_time": "2022-05-25T06:19:37.151181Z",
     "start_time": "2022-05-25T06:19:32.108104Z"
    }
   },
   "outputs": [
    {
     "name": "stdout",
     "output_type": "stream",
     "text": [
      "공간의 크기 n을 입력하세요 N * N : 3\n",
      "방향을 입력하세요 : r\n",
      "[[0, 0, 0], [0, 0, 0], [0, 0, 0]]\n"
     ]
    }
   ],
   "source": [
    "n = int(input('공간의 크기 n을 입력하세요 N * N : '))\n",
    "array = [[0 for col in range(n)] for row in range(n)]\n",
    "direction = list(input('방향을 입력하세요 : ').split())\n",
    "\n",
    "# print(array)\n",
    "\n",
    "# print(direction)\n",
    "\n",
    "for "
   ]
  },
  {
   "cell_type": "code",
   "execution_count": 9,
   "id": "122b927b",
   "metadata": {
    "ExecuteTime": {
     "end_time": "2022-05-25T06:27:18.124456Z",
     "start_time": "2022-05-25T06:27:06.138690Z"
    }
   },
   "outputs": [
    {
     "name": "stdout",
     "output_type": "stream",
     "text": [
      "3\n",
      "L R D U\n",
      "1 2\n"
     ]
    }
   ],
   "source": [
    "# n을 입력 받는다. \n",
    "n = int(input())\n",
    "x, y = 1, 1\n",
    "plans = input().split()\n",
    "\n",
    "# L, R, U, D에 따른 이동 방향 \n",
    "dx = [0, 0, -1, 1]\n",
    "dy = [-1, 1, 0, 0]\n",
    "move_types = ['L', 'R', 'U', 'D']\n",
    "\n",
    "# 이동 계획을 하나씩 확인 \n",
    "for plan in plans : \n",
    "    # 이동 후 좌표를 구한다. \n",
    "    for i in range(len(move_types)) : \n",
    "        if plan == move_types[i] : \n",
    "            nx = x + dx[i]\n",
    "            ny = y + dy[i]\n",
    "            \n",
    "    # 공간을 벗어나는 경우 무시 \n",
    "    if nx < 1 or ny < 1 or nx > n or ny > n : \n",
    "        continue\n",
    "    \n",
    "    # 이동 수행 \n",
    "    x, y = nx, ny\n",
    "    \n",
    "print(x, y)"
   ]
  },
  {
   "cell_type": "markdown",
   "id": "f6963abe",
   "metadata": {},
   "source": [
    "## 시각 \n",
    "* 정수 n이 입력되면 00시 00분 00초부터 n시 59분 59초까지의 모든 시각 중에서 3이 하나라도 포함되는 모든 경우의 수를 구하는 프로그램을 작성하세요. 예를 들어 1을 입력했을 때 다음은 3이 하나라도 포함되어 있으므로 세어야 하는 시각이다.<br>\n",
    "\n",
    "입력 : 정수"
   ]
  },
  {
   "cell_type": "code",
   "execution_count": 11,
   "id": "06619b66",
   "metadata": {
    "ExecuteTime": {
     "end_time": "2022-05-25T06:41:15.089619Z",
     "start_time": "2022-05-25T06:41:14.065661Z"
    }
   },
   "outputs": [
    {
     "name": "stdout",
     "output_type": "stream",
     "text": [
      "시를 입력하세요 : 3\n",
      "8325\n"
     ]
    }
   ],
   "source": [
    "hour = int(input('시를 입력하세요 : ')) # 23\n",
    "cnt = 0\n",
    "\n",
    "# 00:00:00 ~ N:59:59\n",
    "for i in range(hour + 1) : \n",
    "    for j in range(60) : \n",
    "        for k in range(60) : \n",
    "            # 시, 분, 초 중 매 시각 3이 있다면 cnt += 1\n",
    "            if '3' in str(i) + str(j) + str(k) : \n",
    "                cnt += 1\n",
    "\n",
    "print(cnt)\n",
    "    "
   ]
  },
  {
   "cell_type": "markdown",
   "id": "fed15fd7",
   "metadata": {},
   "source": [
    "## 왕실의 나이트 \n",
    "1. 수평으로 두 칸 이동한 뒤에 수직으로 한 칸 이동하기 \n",
    "2. 수직으로 두 칸 이동한 뒤에 수평으로 한 칸 이동하기 \n",
    "\n",
    "이처럼 8*8 좌표 평면상에서 나이트의 위치가 주어졌을 때 나이트가 이동할 수 있는 경우의 수를 출력하는 프로그램을 작성하세요.\n"
   ]
  },
  {
   "cell_type": "code",
   "execution_count": 13,
   "id": "0abdbaa7",
   "metadata": {
    "ExecuteTime": {
     "end_time": "2022-05-25T07:10:44.483830Z",
     "start_time": "2022-05-25T07:10:42.194651Z"
    }
   },
   "outputs": [
    {
     "name": "stdout",
     "output_type": "stream",
     "text": [
      "a3\n",
      "4\n"
     ]
    }
   ],
   "source": [
    "# 현재 나이트의 위치 입력받기 \n",
    "input_data = input()\n",
    "row = int(input_data[1])\n",
    "column = int(ord(input_data[0])) - int(ord('a')) + 1\n",
    "\n",
    "# 나이트가 이동할 수 있는 8가지 방향 정의 \n",
    "steps = [(-2, -1), (-1, -2), (1, -2), (2, -1), (2, 1), (1, 2), (-1, 2), (-2, 1)]\n",
    "\n",
    "# 8가지 방향에 대하여 각 위치로 이동이 가능한지 확인 \n",
    "result = 0\n",
    "for step in steps : \n",
    "    # 이동하고자 하는 위치 확인 \n",
    "    next_row = row + step[0]\n",
    "    next_column = column + step[1]\n",
    "    # 해당 위치로 이동이 가능하다면 카운트 증가 \n",
    "    if next_row >= 1 and next_row <= 8 and next_column >= 1 and next_column <= 8 : \n",
    "        result += 1 \n",
    "\n",
    "print(result)\n",
    "\n",
    "'''\n",
    "1. 현재 나이트의 위치를 입력 받는다. \n",
    "2. 나이트가 이동 할 수 있는 8가지 방향 정의 \n",
    "3. 8가지 방향에 대해서 각 위치로 이동이 가능한지 확인\n",
    "'''"
   ]
  },
  {
   "cell_type": "code",
   "execution_count": null,
   "id": "89102edb",
   "metadata": {},
   "outputs": [],
   "source": []
  }
 ],
 "metadata": {
  "kernelspec": {
   "display_name": "Python 3 (ipykernel)",
   "language": "python",
   "name": "python3"
  },
  "language_info": {
   "codemirror_mode": {
    "name": "ipython",
    "version": 3
   },
   "file_extension": ".py",
   "mimetype": "text/x-python",
   "name": "python",
   "nbconvert_exporter": "python",
   "pygments_lexer": "ipython3",
   "version": "3.9.7"
  },
  "toc": {
   "base_numbering": 1,
   "nav_menu": {},
   "number_sections": true,
   "sideBar": true,
   "skip_h1_title": false,
   "title_cell": "Table of Contents",
   "title_sidebar": "Contents",
   "toc_cell": false,
   "toc_position": {},
   "toc_section_display": true,
   "toc_window_display": false
  },
  "varInspector": {
   "cols": {
    "lenName": 16,
    "lenType": 16,
    "lenVar": 40
   },
   "kernels_config": {
    "python": {
     "delete_cmd_postfix": "",
     "delete_cmd_prefix": "del ",
     "library": "var_list.py",
     "varRefreshCmd": "print(var_dic_list())"
    },
    "r": {
     "delete_cmd_postfix": ") ",
     "delete_cmd_prefix": "rm(",
     "library": "var_list.r",
     "varRefreshCmd": "cat(var_dic_list()) "
    }
   },
   "types_to_exclude": [
    "module",
    "function",
    "builtin_function_or_method",
    "instance",
    "_Feature"
   ],
   "window_display": false
  }
 },
 "nbformat": 4,
 "nbformat_minor": 5
}
