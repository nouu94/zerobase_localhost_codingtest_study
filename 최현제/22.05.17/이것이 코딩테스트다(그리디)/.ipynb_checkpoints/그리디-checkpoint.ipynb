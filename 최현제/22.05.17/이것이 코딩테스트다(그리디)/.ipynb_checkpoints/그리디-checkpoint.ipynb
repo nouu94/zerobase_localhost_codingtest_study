{
 "cells": [
  {
   "cell_type": "markdown",
   "id": "969d5dcf",
   "metadata": {},
   "source": [
    "# 당장 좋은 것만 선택하는 그리디 \n",
    "* 현재 상황에서 지금 당장 좋은 것만 고르는 방법을 의미 하는 용어\n",
    "* 사전에 외우고 있지 않아도 풀 수 있는 가능성이 높은 유형이다. 반면 이후 공부할 정렬, 최단 경로 등의 알고리즘유형은 사용 방법을 정확히 알고 있어야 된다.\n",
    "* 그리디 알고리즘은 기준에 따라 좋은 것을 선택하는 알고리즘이므로 문제에서 '가장 큰 순서대로', '가장 작은 순서대로'와 같은 기준을 알게 모르게 제시해준다."
   ]
  },
  {
   "cell_type": "markdown",
   "id": "8f7b8845",
   "metadata": {},
   "source": [
    "## 거스름돈 문제 \n",
    "당신은 음식점의 계산을 도와주는 점원이다. 카운터에는 거스름돈으로 사용할 500원, 100원, 50원, 10원짜리 동전이 무한히 존재한다고 가정한다. 손님에게 거슬러줘야 할 돈이 N원일 때 거슬러 줘야 할 동전의 **최소 개수를 구해라.**(단 거슬러 줘야 할 돈은 10의 배수이다.)<br><br>\n",
    "\n",
    "**'가장 큰 화폐 단위부터' 돈을 거슬러주면 해결할 수 있는 문제**"
   ]
  },
  {
   "cell_type": "code",
   "execution_count": 1,
   "id": "08426fa0",
   "metadata": {
    "ExecuteTime": {
     "end_time": "2022-05-17T05:01:30.019160Z",
     "start_time": "2022-05-17T05:01:30.012159Z"
    }
   },
   "outputs": [],
   "source": [
    "# 코드 구현 \n",
    "\n",
    "def changes(n) : \n",
    "    \n",
    "    coin_types = [500, 100, 50, 10] # coin_types 리스트를 선언한 뒤 큰 화폐부터 차례대로 할당\n",
    "    count = 0 # 동전의 갯수를 반환하는 변수인 count 선언\n",
    "    \n",
    "    for coin in coin_types : \n",
    "        count += n // coin\n",
    "        n %= coin\n",
    "        \n",
    "    return count\n"
   ]
  },
  {
   "cell_type": "code",
   "execution_count": 4,
   "id": "478d665d",
   "metadata": {
    "ExecuteTime": {
     "end_time": "2022-05-17T05:02:02.543692Z",
     "start_time": "2022-05-17T05:02:02.532693Z"
    }
   },
   "outputs": [
    {
     "name": "stdout",
     "output_type": "stream",
     "text": [
      "10\n"
     ]
    }
   ],
   "source": [
    "print(changes(1440))"
   ]
  },
  {
   "cell_type": "markdown",
   "id": "21660bee",
   "metadata": {},
   "source": [
    "## 그리디 알고리즘의 정당성\n",
    "해당 문제는 그리디 알고리즘의 정당성에 맞는 문제이다. 화폐의 단위 중 최고로 큰 500원이 나머지 세 화폐 단위의 배수이기 때문이다. 만약 배수가 아니라면 그리디 알고리즘으로 풀 수 없을 것 이다. 만약 화폐 단위가 무작위로 주어진다면 다이나믹 프로그래밍으로 풀 수 있을 것임\n"
   ]
  },
  {
   "cell_type": "markdown",
   "id": "8a98cccb",
   "metadata": {},
   "source": [
    "## 큰 수의 법칙 \n",
    "* 입력은 배열크기, M, K 출력은 배열의 크기만큼 리스트 원소를 적음 \n",
    "* M은 총 몇번 더할 것인지에 대한 값이며, K는 가장 큰 수를 한번 주기당 몇 번 더할 것인지에 대한 변수이다.<br><br>\n",
    "ex. 2, 4, 5, 4, 6으로 이루어진 배열이 있을 때 M이 8이고, K가 3이라고 가정하자. 이 경우 특정한 인덱스의 수가 연속해서 세 번까지만 더해질 수 있으므로 큰 수의 법칙에 따른 결과 (6 + 6 + 6 + 5) + (6 + 6 + 6 + 5)인 46이 된다"
   ]
  },
  {
   "cell_type": "code",
   "execution_count": 15,
   "id": "fcd8987a",
   "metadata": {
    "ExecuteTime": {
     "end_time": "2022-05-17T05:50:13.785851Z",
     "start_time": "2022-05-17T05:50:05.107982Z"
    }
   },
   "outputs": [
    {
     "name": "stdout",
     "output_type": "stream",
     "text": [
      "5 8 3\n",
      "2 4 5 4 6\n",
      "46\n"
     ]
    }
   ],
   "source": [
    "# 첫 번째 방법\n",
    "\n",
    "lst_length, m, k = map(int, input().split())\n",
    "array_lst = list(map(int, input().split()))\n",
    "array_lst.sort(reverse = True)\n",
    "\n",
    "# 제일 큰 수와 두번째로 큰 수만 정하면 큰 수의 법칙 문제는 쉽게 해결 가능합니다.\n",
    "first_item = array_lst[0]\n",
    "second_item = array_lst[1]\n",
    "\n",
    "result = 0\n",
    "\n",
    "while True : \n",
    "    for i in range(k) : # 가장 큰 수를 k번 더하기 \n",
    "        if m == 0 : # m이 0이면 반복문을 탈출한다.  \n",
    "            break\n",
    "        result += first_item\n",
    "        m -= 1\n",
    "    \n",
    "    if m == 0 :\n",
    "        break\n",
    "    \n",
    "    result += second_item # 1회전 마지막에 두번째로 큰 수 더하기\n",
    "    m -= 1 # 총 더하는 횟수를 지칭하는 m에 -1하기\n",
    "    \n",
    "print(result) # 최종 답안 출력\n",
    "\n",
    "\n",
    "# 하지만 이 방법은 반복문이기 떄문에 m의 크기가 100억이상 커진다면 시간 초과를 받을 수 있다. \n"
   ]
  },
  {
   "cell_type": "code",
   "execution_count": 17,
   "id": "7382d61c",
   "metadata": {
    "ExecuteTime": {
     "end_time": "2022-05-17T06:10:30.017321Z",
     "start_time": "2022-05-17T06:10:20.490027Z"
    }
   },
   "outputs": [
    {
     "name": "stdout",
     "output_type": "stream",
     "text": [
      "5 8 3\n",
      "2 4 5 4 6\n",
      "46\n"
     ]
    }
   ],
   "source": [
    "# 두 번째 방법\n",
    "'''\n",
    "반복되는 수열에 대해서 파악한다. \n",
    "가장 큰 수와 두 번째로 큰 수가 더해질 때 특정한 수열 형태로 일정하게 반복해서 더해지는 특징이 있다. \n",
    "가장 큰 수를 더하는 k에 + 1, k+1이 일정하게 반복되는 덧셈 패턴이 만들어진다. \n",
    "M // (K + 1) -> 수열의 반복되는 횟수 \n",
    "(M // (K + 1)) * K -> 가장 큰수가 등장하는 횟수가 된다.\n",
    "'''\n",
    "'''\n",
    "이 때 M이 (K + 1)로 나누어 떨어지지 않는 경우도 고려한다. \n",
    "그럴 때 M을 (K + 1)로 나눈 나머지만큼 가장 큰 수가 추가로 더해지므로 고려해줘야된다.\n",
    "(M // (K + 1)) * K + M % (K + 1)\n",
    "'''\n",
    "\n",
    "lst_length, m, k = map(int, input().split())\n",
    "array_lst = list(map(int, input().split()))\n",
    "array_lst.sort(reverse = True)\n",
    "\n",
    "# 제일 큰 수와 두번째로 큰 수만 정하면 큰 수의 법칙 문제는 쉽게 해결 가능합니다.\n",
    "first_item = array_lst[0]\n",
    "second_item = array_lst[1]\n",
    "\n",
    "# 가장 큰 수가 더해지는 횟수 계산 \n",
    "count = (m // (k + 1)) * k\n",
    "count += m % (k + 1)\n",
    "\n",
    "result = 0\n",
    "result += (count) * first_item # 가장 큰 수 더하기\n",
    "result += (m - count) * second_item # 두 번째로 큰 수 더하기 \n",
    "\n",
    "print(result)\n",
    "\n",
    "\n",
    "# 1. 가장 큰 수가 더해지는 횟수(count), 이를 이용해 두 번째로 큰 수가 더해지는 횟수(m - count) 까지 구할 수 있다.\n"
   ]
  },
  {
   "cell_type": "markdown",
   "id": "427ba779",
   "metadata": {},
   "source": [
    "## 숫자 카드 게임\n",
    "* 숫자가 쓰인 카드들이 n * m 형태로 놓여 있다. 이때 n을 행의 개수, m은 열의 개수를 의미한다.\n",
    "* 먼저 뽑고자 하는 카드가 포함되어 있는 행을 선택한다.\n",
    "* 그 다음 선택된 행에 포함된 카드들 중 가장 숫자가 낮은 카드를 뽑아야 한다.\n",
    "* 처음에 카드를 골라낼 행을 선택할 때, 이후에 해당 행에서 가장 숫자가 낮은 카드를 뽑을 것을 고려하여 최종적으로 가장 높은 카드를 뽑을 수 있도록 전략을 세운다."
   ]
  },
  {
   "cell_type": "markdown",
   "id": "de63ef73",
   "metadata": {},
   "source": [
    "### 내가 푼 답"
   ]
  },
  {
   "cell_type": "code",
   "execution_count": 25,
   "id": "feaf907f",
   "metadata": {
    "ExecuteTime": {
     "end_time": "2022-05-17T09:34:48.434034Z",
     "start_time": "2022-05-17T09:34:01.053524Z"
    }
   },
   "outputs": [
    {
     "ename": "KeyboardInterrupt",
     "evalue": "Interrupted by user",
     "output_type": "error",
     "traceback": [
      "\u001b[1;31m---------------------------------------------------------------------------\u001b[0m",
      "\u001b[1;31mKeyboardInterrupt\u001b[0m                         Traceback (most recent call last)",
      "\u001b[1;32m~\\AppData\\Local\\Temp/ipykernel_12524/4011177976.py\u001b[0m in \u001b[0;36m<module>\u001b[1;34m\u001b[0m\n\u001b[0;32m      3\u001b[0m \u001b[1;31m# 출력 조건 : 첫째 줄에 게임의 룰에 맞게 선택한 카드에 적힌 숫자를 출력한다.\u001b[0m\u001b[1;33m\u001b[0m\u001b[1;33m\u001b[0m\u001b[0m\n\u001b[0;32m      4\u001b[0m \u001b[1;33m\u001b[0m\u001b[0m\n\u001b[1;32m----> 5\u001b[1;33m \u001b[0mn\u001b[0m\u001b[1;33m,\u001b[0m \u001b[0mm\u001b[0m \u001b[1;33m=\u001b[0m \u001b[0mmap\u001b[0m\u001b[1;33m(\u001b[0m\u001b[0mint\u001b[0m\u001b[1;33m,\u001b[0m \u001b[0minput\u001b[0m\u001b[1;33m(\u001b[0m\u001b[1;33m)\u001b[0m\u001b[1;33m.\u001b[0m\u001b[0msplit\u001b[0m\u001b[1;33m(\u001b[0m\u001b[1;33m)\u001b[0m\u001b[1;33m)\u001b[0m\u001b[1;33m\u001b[0m\u001b[1;33m\u001b[0m\u001b[0m\n\u001b[0m\u001b[0;32m      6\u001b[0m \u001b[0mcard_numbers\u001b[0m \u001b[1;33m=\u001b[0m \u001b[1;33m[\u001b[0m\u001b[1;33m]\u001b[0m\u001b[1;33m\u001b[0m\u001b[1;33m\u001b[0m\u001b[0m\n\u001b[0;32m      7\u001b[0m \u001b[0mresult\u001b[0m \u001b[1;33m=\u001b[0m \u001b[1;36m0\u001b[0m\u001b[1;33m\u001b[0m\u001b[1;33m\u001b[0m\u001b[0m\n",
      "\u001b[1;32m~\\anaconda3\\lib\\site-packages\\ipykernel\\kernelbase.py\u001b[0m in \u001b[0;36mraw_input\u001b[1;34m(self, prompt)\u001b[0m\n\u001b[0;32m   1004\u001b[0m                 \u001b[1;34m\"raw_input was called, but this frontend does not support input requests.\"\u001b[0m\u001b[1;33m\u001b[0m\u001b[1;33m\u001b[0m\u001b[0m\n\u001b[0;32m   1005\u001b[0m             )\n\u001b[1;32m-> 1006\u001b[1;33m         return self._input_request(\n\u001b[0m\u001b[0;32m   1007\u001b[0m             \u001b[0mstr\u001b[0m\u001b[1;33m(\u001b[0m\u001b[0mprompt\u001b[0m\u001b[1;33m)\u001b[0m\u001b[1;33m,\u001b[0m\u001b[1;33m\u001b[0m\u001b[1;33m\u001b[0m\u001b[0m\n\u001b[0;32m   1008\u001b[0m             \u001b[0mself\u001b[0m\u001b[1;33m.\u001b[0m\u001b[0m_parent_ident\u001b[0m\u001b[1;33m[\u001b[0m\u001b[1;34m\"shell\"\u001b[0m\u001b[1;33m]\u001b[0m\u001b[1;33m,\u001b[0m\u001b[1;33m\u001b[0m\u001b[1;33m\u001b[0m\u001b[0m\n",
      "\u001b[1;32m~\\anaconda3\\lib\\site-packages\\ipykernel\\kernelbase.py\u001b[0m in \u001b[0;36m_input_request\u001b[1;34m(self, prompt, ident, parent, password)\u001b[0m\n\u001b[0;32m   1049\u001b[0m             \u001b[1;32mexcept\u001b[0m \u001b[0mKeyboardInterrupt\u001b[0m\u001b[1;33m:\u001b[0m\u001b[1;33m\u001b[0m\u001b[1;33m\u001b[0m\u001b[0m\n\u001b[0;32m   1050\u001b[0m                 \u001b[1;31m# re-raise KeyboardInterrupt, to truncate traceback\u001b[0m\u001b[1;33m\u001b[0m\u001b[1;33m\u001b[0m\u001b[0m\n\u001b[1;32m-> 1051\u001b[1;33m                 \u001b[1;32mraise\u001b[0m \u001b[0mKeyboardInterrupt\u001b[0m\u001b[1;33m(\u001b[0m\u001b[1;34m\"Interrupted by user\"\u001b[0m\u001b[1;33m)\u001b[0m \u001b[1;32mfrom\u001b[0m \u001b[1;32mNone\u001b[0m\u001b[1;33m\u001b[0m\u001b[1;33m\u001b[0m\u001b[0m\n\u001b[0m\u001b[0;32m   1052\u001b[0m             \u001b[1;32mexcept\u001b[0m \u001b[0mException\u001b[0m\u001b[1;33m:\u001b[0m\u001b[1;33m\u001b[0m\u001b[1;33m\u001b[0m\u001b[0m\n\u001b[0;32m   1053\u001b[0m                 \u001b[0mself\u001b[0m\u001b[1;33m.\u001b[0m\u001b[0mlog\u001b[0m\u001b[1;33m.\u001b[0m\u001b[0mwarning\u001b[0m\u001b[1;33m(\u001b[0m\u001b[1;34m\"Invalid Message:\"\u001b[0m\u001b[1;33m,\u001b[0m \u001b[0mexc_info\u001b[0m\u001b[1;33m=\u001b[0m\u001b[1;32mTrue\u001b[0m\u001b[1;33m)\u001b[0m\u001b[1;33m\u001b[0m\u001b[1;33m\u001b[0m\u001b[0m\n",
      "\u001b[1;31mKeyboardInterrupt\u001b[0m: Interrupted by user"
     ]
    }
   ],
   "source": [
    "# 입력 조건 : 첫째 줄에 숫자 카드들이 놓인 행의 개수 n과 열의 갯수 m이 공백을 기준으로 하여 각각 자연수로 주어진다.\n",
    "# 둘째 줄 부터는 n개의 줄에 걸쳐 각 카드에 적힌 숫자가 주어진다. 각 숫자는 1 이상 10,000 이하의 자연수이다.\n",
    "# 출력 조건 : 첫째 줄에 게임의 룰에 맞게 선택한 카드에 적힌 숫자를 출력한다. \n",
    "\n",
    "n, m = map(int, input().split())\n",
    "card_numbers = []\n",
    "result = 0\n",
    "\n",
    "for i in range(n) :\n",
    "    card_numbers.append(list(map(int, input().split())))\n",
    "    \n",
    "    if result <= min(card_numbers[i]) : \n",
    "        result = min(card_numbers[i])\n",
    "    \n",
    "print(result)\n",
    "\n"
   ]
  },
  {
   "cell_type": "markdown",
   "id": "bc90b864",
   "metadata": {},
   "source": [
    "### 책에서 나온 답"
   ]
  },
  {
   "cell_type": "code",
   "execution_count": 26,
   "id": "9988d9ab",
   "metadata": {
    "ExecuteTime": {
     "end_time": "2022-05-17T09:39:34.666851Z",
     "start_time": "2022-05-17T09:39:26.798284Z"
    }
   },
   "outputs": [
    {
     "name": "stdout",
     "output_type": "stream",
     "text": [
      "3 3\n",
      "2 4 6\n",
      "3 2 1\n",
      "4 6 6\n",
      "4\n"
     ]
    }
   ],
   "source": [
    "# n, m을 공백으로 구분해서 입력받기 \n",
    "n, m = map(int, input().split())\n",
    "\n",
    "result = 0\n",
    "# 행을 기준으로 한줄 씩 입력 받음 \n",
    "for i in range(n) : \n",
    "    data = list(map(int, input().split()))\n",
    "    # 현재 줄에서 가장 작은 수 찾기 \n",
    "    min_value = min(data)\n",
    "    # 가장 작은 수들 중 큰 수 찾기 \n",
    "    result = max(min_value, result)\n",
    "    \n",
    "print(result) # 최종 답안을 출력합니다.\n",
    "\n",
    "# 처음엔 이게 왜 그리디인지 잘 몰랐지만 한 행 기준으로 반복하여 조건에 대한 이상적인 결과를 낸다는 점에서 그리디라고 인지하였습니다."
   ]
  },
  {
   "cell_type": "markdown",
   "id": "7589baf0",
   "metadata": {},
   "source": [
    "## 1이 될 때 까지 \n",
    "* 어떠한 수 n이 1이 될 때 까지 다음의 두 과정 중 하나를 반복적으로 선택해서 수행하려고 한다. 단, 두 번째 연산은 n이 k로 나누어 떨어질 때만 선택할 수 있다.\n",
    "* n에서 1을 뺸다. \n",
    "* n을 k로 나눈다.(단 나누어 떨어질 때)"
   ]
  },
  {
   "cell_type": "markdown",
   "id": "8d109fb3",
   "metadata": {},
   "source": [
    "### 내가 푼 답"
   ]
  },
  {
   "cell_type": "code",
   "execution_count": 31,
   "id": "765c2447",
   "metadata": {
    "ExecuteTime": {
     "end_time": "2022-05-17T10:04:21.098205Z",
     "start_time": "2022-05-17T10:04:13.363760Z"
    }
   },
   "outputs": [
    {
     "name": "stdout",
     "output_type": "stream",
     "text": [
      "22 3\n"
     ]
    },
    {
     "ename": "KeyboardInterrupt",
     "evalue": "",
     "output_type": "error",
     "traceback": [
      "\u001b[1;31m---------------------------------------------------------------------------\u001b[0m",
      "\u001b[1;31mKeyboardInterrupt\u001b[0m                         Traceback (most recent call last)",
      "\u001b[1;32m~\\AppData\\Local\\Temp/ipykernel_12524/2547222524.py\u001b[0m in \u001b[0;36m<module>\u001b[1;34m\u001b[0m\n\u001b[0;32m     13\u001b[0m \u001b[1;32mwhile\u001b[0m \u001b[0mn\u001b[0m \u001b[1;33m!=\u001b[0m \u001b[1;36m1\u001b[0m \u001b[1;33m:\u001b[0m\u001b[1;33m\u001b[0m\u001b[1;33m\u001b[0m\u001b[0m\n\u001b[0;32m     14\u001b[0m     \u001b[0mn\u001b[0m \u001b[1;33m//=\u001b[0m \u001b[0mk\u001b[0m\u001b[1;33m\u001b[0m\u001b[1;33m\u001b[0m\u001b[0m\n\u001b[1;32m---> 15\u001b[1;33m     \u001b[0mresult\u001b[0m \u001b[1;33m+=\u001b[0m \u001b[1;36m1\u001b[0m\u001b[1;33m\u001b[0m\u001b[1;33m\u001b[0m\u001b[0m\n\u001b[0m\u001b[0;32m     16\u001b[0m \u001b[1;33m\u001b[0m\u001b[0m\n\u001b[0;32m     17\u001b[0m \u001b[0mprint\u001b[0m\u001b[1;33m(\u001b[0m\u001b[0mresult\u001b[0m\u001b[1;33m)\u001b[0m\u001b[1;33m\u001b[0m\u001b[1;33m\u001b[0m\u001b[0m\n",
      "\u001b[1;31mKeyboardInterrupt\u001b[0m: "
     ]
    }
   ],
   "source": [
    "# 입력조건 : 첫째 줄에 n(2 <= n <= 100,000)과 k(2 <= 100,000)가 공백으로 구분되며 각각 자연수로 주어진다.\n",
    "# 이 때 입력으로 주어지는 n은 항상 k보다 크거나 같다. \n",
    "# 첫째 줄에 n이 1이 될 때까지 1번 혹은 2번의 과정을 수행해야 하는 횟수의 최솟값을 출력한다.\n",
    "\n",
    "n, k = map(int, input().split())\n",
    "result = 0\n",
    "\n",
    "while n % k != 0 : \n",
    "    n -= 1\n",
    "    result += 1\n",
    "    \n",
    "    \n",
    "while n != 1 : \n",
    "    n //= k\n",
    "    result += 1\n",
    "    \n",
    "print(result)\n",
    "    \n",
    "    \n",
    "    \n"
   ]
  },
  {
   "cell_type": "markdown",
   "id": "ff618490",
   "metadata": {},
   "source": [
    "### 책에 있는 답 "
   ]
  },
  {
   "cell_type": "code",
   "execution_count": 32,
   "id": "30e810af",
   "metadata": {
    "ExecuteTime": {
     "end_time": "2022-05-17T10:08:37.699936Z",
     "start_time": "2022-05-17T10:08:33.240765Z"
    }
   },
   "outputs": [
    {
     "name": "stdout",
     "output_type": "stream",
     "text": [
      "14 3\n",
      "5\n"
     ]
    }
   ],
   "source": [
    "# n이 k의 배수가 될 때 까지 1씩 빼기 \n",
    "# n을 k로 나누기 \n",
    "\n",
    "n, k = map(int, input().split())\n",
    "result = 0 \n",
    "\n",
    "# n이 k 이상이라면 k로 계속 나누기 \n",
    "while n >= k : \n",
    "    # n이 k로 나누어 떨어지지 않는다면 n에서 1씩 빼기 \n",
    "    while n % k != 0 : \n",
    "        n -= 1 \n",
    "        result += 1\n",
    "    \n",
    "    # k로 나누기 \n",
    "    n //= k \n",
    "    result += 1\n",
    "    \n",
    "# 마지막으로 남은 수에 대해서 1씩 빼기 \n",
    "while n > 1 : \n",
    "    n -= 1 \n",
    "    result += 1 \n",
    "    \n",
    "print(result)"
   ]
  },
  {
   "cell_type": "code",
   "execution_count": null,
   "id": "9a8e4339",
   "metadata": {},
   "outputs": [],
   "source": [
    "# 효율적으로 구현하는 방법 \n",
    "# n이 k의 배수가 되도록 만든 뒤 한번에 빼는 방식으로 소스코드를 작성할 수 있다. \n",
    "n, k = map(int, input().split())\n",
    "result = 0\n",
    "\n",
    "while True : \n",
    "    # (n == k로 나누어 떨어지는 수)가 될 때까지 1씩 빼기 \n",
    "    target = (n // k) * k\n",
    "    result += (n - target)\n",
    "    n = target \n",
    "    \n",
    "    # n이 k보다 작을 때 (더 이상 나눌 수 없을 때) 반복문을 탈출한다. \n",
    "    if n < k : \n",
    "        break \n",
    "    # K로 나눈다. \n",
    "    result += 1 \n",
    "    n //= k \n",
    "    \n",
    "# 마지막으로 남은 수에 대해서 1씩 빼기 \n",
    "print(result)\n",
    "\n",
    "# 해당 방법에 대해서 각각 어떤 코드인지 분석해야 함"
   ]
  }
 ],
 "metadata": {
  "kernelspec": {
   "display_name": "Python 3 (ipykernel)",
   "language": "python",
   "name": "python3"
  },
  "language_info": {
   "codemirror_mode": {
    "name": "ipython",
    "version": 3
   },
   "file_extension": ".py",
   "mimetype": "text/x-python",
   "name": "python",
   "nbconvert_exporter": "python",
   "pygments_lexer": "ipython3",
   "version": "3.9.7"
  },
  "toc": {
   "base_numbering": 1,
   "nav_menu": {},
   "number_sections": true,
   "sideBar": true,
   "skip_h1_title": false,
   "title_cell": "Table of Contents",
   "title_sidebar": "Contents",
   "toc_cell": false,
   "toc_position": {},
   "toc_section_display": true,
   "toc_window_display": false
  },
  "varInspector": {
   "cols": {
    "lenName": 16,
    "lenType": 16,
    "lenVar": 40
   },
   "kernels_config": {
    "python": {
     "delete_cmd_postfix": "",
     "delete_cmd_prefix": "del ",
     "library": "var_list.py",
     "varRefreshCmd": "print(var_dic_list())"
    },
    "r": {
     "delete_cmd_postfix": ") ",
     "delete_cmd_prefix": "rm(",
     "library": "var_list.r",
     "varRefreshCmd": "cat(var_dic_list()) "
    }
   },
   "types_to_exclude": [
    "module",
    "function",
    "builtin_function_or_method",
    "instance",
    "_Feature"
   ],
   "window_display": false
  }
 },
 "nbformat": 4,
 "nbformat_minor": 5
}
