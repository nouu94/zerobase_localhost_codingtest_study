{
 "cells": [
  {
   "cell_type": "markdown",
   "id": "9529e8e8",
   "metadata": {},
   "source": [
    "# 코드업 100제 문제\n",
    "* 1번 ~ 30번\n",
    "<br>\n",
    "7번 문제와 26번 문제에 대한 의문점이 남아 해당 글을 작성하였습니다."
   ]
  },
  {
   "cell_type": "markdown",
   "id": "c500aec6",
   "metadata": {},
   "source": [
    "## 7번 문제 \n",
    "> 윈도우 운영체제의 파일 경로를 출력하는 연습을 해보자.<br>\n",
    "파일 경로에는 특수문자들이 포함된다.<br>\n",
    "다음 경로를 출력하시오.<br>\n",
    "\"C:\\Download\\'hello'.py\"<br>\n",
    "(단, 따옴표도 함께 출력한다.)<br>\n",
    "\\도 안전하게 출력하려면 \\\\를 사용하는 것이 좋다.<br>\n",
    "** 주의 : 본 화면에서 복사하여 붙여넣기하면 제대로 되지 않을 수 있으니 직접 작성해야한다.\n",
    "\n",
    "해당 문제는 이스퀘이프 시퀀스(\\)에 관한 문제인데요, 이스퀘이프 시퀀스에 대한 내용에 대한 정립이 되지 않아 틀렸습니다.<br>\n",
    "<br>\n",
    "내가 틀린 답 \n",
    "```\n",
    "print('\"C:\\Download\\\\'hello'.py\"')\n",
    "```\n",
    "```\n",
    "print('\"C:\\Download\\\\\\'hello'.py\"')\n",
    "```"
   ]
  },
  {
   "cell_type": "code",
   "execution_count": 1,
   "id": "15190fb2",
   "metadata": {
    "ExecuteTime": {
     "end_time": "2022-05-13T09:34:08.328614Z",
     "start_time": "2022-05-13T09:34:08.324614Z"
    }
   },
   "outputs": [
    {
     "name": "stdout",
     "output_type": "stream",
     "text": [
      "\"C:\\Download\\'hello'.py\"\n"
     ]
    }
   ],
   "source": [
    "print('\"C:\\Download\\\\\\'hello\\'.py\"')"
   ]
  },
  {
   "cell_type": "markdown",
   "id": "710cba64",
   "metadata": {},
   "source": [
    "## 26번 문제 \n",
    "> 실수 2개를 입력받아<br>\n",
    "합을 출력하는 프로그램을 작성해보자.<br>\n",
    "참고<br>\n",
    "입력되는 값은 기본적으로 문자열로 인식된다.<br>\n",
    "숫자로 구성된 문자열이나 정수를 실수(real number) 값으로 바꾸기 위해서는 float( ) 를 사용할 수 있다.<br>\n",
    "소숫점(.)은 그 위치가 정해져있지 않고 이리저리 둥둥 떠다니므로, floating point라고 부른다.\n",
    "\n",
    "<br>\n",
    "해당 문제는 간단하게 풀 수 있었지만 파이썬 부동 소수점 체계에 대해 갑자기 궁금해져서 벨로그에 글을 작성하였습니다.<br>\n",
    "velog url"
   ]
  },
  {
   "cell_type": "code",
   "execution_count": null,
   "id": "30f2367d",
   "metadata": {},
   "outputs": [],
   "source": []
  },
  {
   "cell_type": "code",
   "execution_count": null,
   "id": "1d574623",
   "metadata": {},
   "outputs": [],
   "source": []
  },
  {
   "cell_type": "code",
   "execution_count": null,
   "id": "cf1c4bf1",
   "metadata": {},
   "outputs": [],
   "source": []
  },
  {
   "cell_type": "code",
   "execution_count": null,
   "id": "9fa60593",
   "metadata": {},
   "outputs": [],
   "source": []
  }
 ],
 "metadata": {
  "kernelspec": {
   "display_name": "Python 3 (ipykernel)",
   "language": "python",
   "name": "python3"
  },
  "language_info": {
   "codemirror_mode": {
    "name": "ipython",
    "version": 3
   },
   "file_extension": ".py",
   "mimetype": "text/x-python",
   "name": "python",
   "nbconvert_exporter": "python",
   "pygments_lexer": "ipython3",
   "version": "3.9.7"
  },
  "toc": {
   "base_numbering": 1,
   "nav_menu": {},
   "number_sections": true,
   "sideBar": true,
   "skip_h1_title": false,
   "title_cell": "Table of Contents",
   "title_sidebar": "Contents",
   "toc_cell": false,
   "toc_position": {},
   "toc_section_display": true,
   "toc_window_display": true
  },
  "varInspector": {
   "cols": {
    "lenName": 16,
    "lenType": 16,
    "lenVar": 40
   },
   "kernels_config": {
    "python": {
     "delete_cmd_postfix": "",
     "delete_cmd_prefix": "del ",
     "library": "var_list.py",
     "varRefreshCmd": "print(var_dic_list())"
    },
    "r": {
     "delete_cmd_postfix": ") ",
     "delete_cmd_prefix": "rm(",
     "library": "var_list.r",
     "varRefreshCmd": "cat(var_dic_list()) "
    }
   },
   "types_to_exclude": [
    "module",
    "function",
    "builtin_function_or_method",
    "instance",
    "_Feature"
   ],
   "window_display": false
  }
 },
 "nbformat": 4,
 "nbformat_minor": 5
}
